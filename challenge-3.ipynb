{
 "cells": [
  {
   "cell_type": "markdown",
   "metadata": {},
   "source": [
    "# Challenge 3\n",
    "\n",
    "In this challenge we will work on the `Orders` data set. In your work you will apply the thinking process and workflow we showed you in Challenge 2.\n",
    "\n",
    "You are serving as a Business Intelligence Analyst at the headquarter of an international fashion goods chain store. Your boss today asked you to do two things for her:\n",
    "\n",
    "**First, identify two groups of customers from the data set.** The first group is **VIP Customers** whose **aggregated expenses** at your global chain stores are **above the 95th percentile** (aka. 0.95 quantile). The second group is **Preferred Customers** whose **aggregated expenses** are **between the 75th and 95th percentile**.\n",
    "\n",
    "**Second, identify which country has the most of your VIP customers, and which country has the most of your VIP+Preferred Customers combined.**"
   ]
  },
  {
   "cell_type": "markdown",
   "metadata": {},
   "source": [
    "## Q1: How to identify VIP & Preferred Customers?\n",
    "\n",
    "We start by importing all the required libraries:"
   ]
  },
  {
   "cell_type": "code",
   "execution_count": 1,
   "metadata": {},
   "outputs": [],
   "source": [
    "# import required libraries\n",
    "import numpy as np\n",
    "import pandas as pd"
   ]
  },
  {
   "cell_type": "code",
   "execution_count": 2,
   "metadata": {},
   "outputs": [
    {
     "data": {
      "text/plain": [
       "'C:\\\\Users\\\\Alvaro Camacho\\\\Desktop\\\\Ironhack\\\\Week 2\\\\week2_day4\\\\Dataframe-Calculations\\\\your-code'"
      ]
     },
     "execution_count": 2,
     "metadata": {},
     "output_type": "execute_result"
    }
   ],
   "source": [
    "pwd"
   ]
  },
  {
   "cell_type": "markdown",
   "metadata": {},
   "source": [
    "Next, import `Orders` from Ironhack's database into a dataframe variable called `orders`. Print the head of `orders` to overview the data:"
   ]
  },
  {
   "cell_type": "code",
   "execution_count": 26,
   "metadata": {},
   "outputs": [
    {
     "data": {
      "text/html": [
       "<div>\n",
       "<style scoped>\n",
       "    .dataframe tbody tr th:only-of-type {\n",
       "        vertical-align: middle;\n",
       "    }\n",
       "\n",
       "    .dataframe tbody tr th {\n",
       "        vertical-align: top;\n",
       "    }\n",
       "\n",
       "    .dataframe thead th {\n",
       "        text-align: right;\n",
       "    }\n",
       "</style>\n",
       "<table border=\"1\" class=\"dataframe\">\n",
       "  <thead>\n",
       "    <tr style=\"text-align: right;\">\n",
       "      <th></th>\n",
       "      <th>InvoiceNo</th>\n",
       "      <th>year</th>\n",
       "      <th>month</th>\n",
       "      <th>day</th>\n",
       "      <th>hour</th>\n",
       "      <th>Quantity</th>\n",
       "      <th>UnitPrice</th>\n",
       "      <th>CustomerID</th>\n",
       "      <th>amount_spent</th>\n",
       "    </tr>\n",
       "  </thead>\n",
       "  <tbody>\n",
       "    <tr>\n",
       "      <td>count</td>\n",
       "      <td>20000.000000</td>\n",
       "      <td>20000.000000</td>\n",
       "      <td>20000.000000</td>\n",
       "      <td>20000.000000</td>\n",
       "      <td>20000.000000</td>\n",
       "      <td>20000.000000</td>\n",
       "      <td>20000.000000</td>\n",
       "      <td>20000.000000</td>\n",
       "      <td>20000.000000</td>\n",
       "    </tr>\n",
       "    <tr>\n",
       "      <td>mean</td>\n",
       "      <td>560666.072000</td>\n",
       "      <td>2010.932950</td>\n",
       "      <td>7.640400</td>\n",
       "      <td>3.642250</td>\n",
       "      <td>12.710600</td>\n",
       "      <td>12.602900</td>\n",
       "      <td>2.986745</td>\n",
       "      <td>15277.991450</td>\n",
       "      <td>21.819121</td>\n",
       "    </tr>\n",
       "    <tr>\n",
       "      <td>std</td>\n",
       "      <td>13133.570887</td>\n",
       "      <td>0.250115</td>\n",
       "      <td>3.411579</td>\n",
       "      <td>1.926045</td>\n",
       "      <td>2.263693</td>\n",
       "      <td>42.680081</td>\n",
       "      <td>5.818156</td>\n",
       "      <td>1719.752345</td>\n",
       "      <td>76.324074</td>\n",
       "    </tr>\n",
       "    <tr>\n",
       "      <td>min</td>\n",
       "      <td>536367.000000</td>\n",
       "      <td>2010.000000</td>\n",
       "      <td>1.000000</td>\n",
       "      <td>1.000000</td>\n",
       "      <td>7.000000</td>\n",
       "      <td>1.000000</td>\n",
       "      <td>0.040000</td>\n",
       "      <td>12347.000000</td>\n",
       "      <td>0.190000</td>\n",
       "    </tr>\n",
       "    <tr>\n",
       "      <td>25%</td>\n",
       "      <td>549257.000000</td>\n",
       "      <td>2011.000000</td>\n",
       "      <td>5.000000</td>\n",
       "      <td>2.000000</td>\n",
       "      <td>11.000000</td>\n",
       "      <td>2.000000</td>\n",
       "      <td>1.250000</td>\n",
       "      <td>13883.000000</td>\n",
       "      <td>4.950000</td>\n",
       "    </tr>\n",
       "    <tr>\n",
       "      <td>50%</td>\n",
       "      <td>561926.000000</td>\n",
       "      <td>2011.000000</td>\n",
       "      <td>9.000000</td>\n",
       "      <td>4.000000</td>\n",
       "      <td>13.000000</td>\n",
       "      <td>6.000000</td>\n",
       "      <td>1.950000</td>\n",
       "      <td>15144.000000</td>\n",
       "      <td>11.900000</td>\n",
       "    </tr>\n",
       "    <tr>\n",
       "      <td>75%</td>\n",
       "      <td>572213.250000</td>\n",
       "      <td>2011.000000</td>\n",
       "      <td>11.000000</td>\n",
       "      <td>5.000000</td>\n",
       "      <td>14.000000</td>\n",
       "      <td>12.000000</td>\n",
       "      <td>3.750000</td>\n",
       "      <td>16790.000000</td>\n",
       "      <td>19.800000</td>\n",
       "    </tr>\n",
       "    <tr>\n",
       "      <td>max</td>\n",
       "      <td>581587.000000</td>\n",
       "      <td>2011.000000</td>\n",
       "      <td>12.000000</td>\n",
       "      <td>7.000000</td>\n",
       "      <td>20.000000</td>\n",
       "      <td>2880.000000</td>\n",
       "      <td>549.340000</td>\n",
       "      <td>18287.000000</td>\n",
       "      <td>4401.000000</td>\n",
       "    </tr>\n",
       "  </tbody>\n",
       "</table>\n",
       "</div>"
      ],
      "text/plain": [
       "           InvoiceNo          year         month           day          hour  \\\n",
       "count   20000.000000  20000.000000  20000.000000  20000.000000  20000.000000   \n",
       "mean   560666.072000   2010.932950      7.640400      3.642250     12.710600   \n",
       "std     13133.570887      0.250115      3.411579      1.926045      2.263693   \n",
       "min    536367.000000   2010.000000      1.000000      1.000000      7.000000   \n",
       "25%    549257.000000   2011.000000      5.000000      2.000000     11.000000   \n",
       "50%    561926.000000   2011.000000      9.000000      4.000000     13.000000   \n",
       "75%    572213.250000   2011.000000     11.000000      5.000000     14.000000   \n",
       "max    581587.000000   2011.000000     12.000000      7.000000     20.000000   \n",
       "\n",
       "           Quantity     UnitPrice    CustomerID  amount_spent  \n",
       "count  20000.000000  20000.000000  20000.000000  20000.000000  \n",
       "mean      12.602900      2.986745  15277.991450     21.819121  \n",
       "std       42.680081      5.818156   1719.752345     76.324074  \n",
       "min        1.000000      0.040000  12347.000000      0.190000  \n",
       "25%        2.000000      1.250000  13883.000000      4.950000  \n",
       "50%        6.000000      1.950000  15144.000000     11.900000  \n",
       "75%       12.000000      3.750000  16790.000000     19.800000  \n",
       "max     2880.000000    549.340000  18287.000000   4401.000000  "
      ]
     },
     "execution_count": 26,
     "metadata": {},
     "output_type": "execute_result"
    }
   ],
   "source": [
    "# your code here\n",
    "orders = pd.read_csv('C:\\\\Users\\\\Alvaro Camacho\\\\Desktop\\\\Ironhack\\\\Week 2\\\\week2_day4\\\\Dataframe-Calculations\\\\data/orders_sample.csv')\n",
    "orders.describe()\n"
   ]
  },
  {
   "cell_type": "markdown",
   "metadata": {},
   "source": [
    "---\n",
    "\n",
    "\"Identify VIP and Preferred Customers\" is the non-technical goal of your boss. You need to translate that goal into technical languages that data analysts use:\n",
    "\n",
    "## How to label customers whose aggregated `amount_spent` is in a given quantile range?\n"
   ]
  },
  {
   "cell_type": "markdown",
   "metadata": {},
   "source": [
    "We break down the main problem into several sub problems:\n",
    "\n",
    "#### Sub Problem 1: How to aggregate the  `amount_spent` for unique customers?\n",
    "\n",
    "#### Sub Problem 2: How to select customers whose aggregated `amount_spent` is in a given quantile range?\n",
    "\n",
    "#### Sub Problem 3: How to label selected customers as \"VIP\" or \"Preferred\"?\n",
    "\n",
    "*Note: If you want to break down the main problem in a different way, please feel free to revise the sub problems above.*\n",
    "\n",
    "Now in the workspace below, tackle each of the sub problems using the iterative problem solving workflow. Insert cells as necessary to write your codes and explain your steps."
   ]
  },
  {
   "cell_type": "code",
   "execution_count": 34,
   "metadata": {},
   "outputs": [
    {
     "data": {
      "text/html": [
       "<div>\n",
       "<style scoped>\n",
       "    .dataframe tbody tr th:only-of-type {\n",
       "        vertical-align: middle;\n",
       "    }\n",
       "\n",
       "    .dataframe tbody tr th {\n",
       "        vertical-align: top;\n",
       "    }\n",
       "\n",
       "    .dataframe thead th {\n",
       "        text-align: right;\n",
       "    }\n",
       "</style>\n",
       "<table border=\"1\" class=\"dataframe\">\n",
       "  <thead>\n",
       "    <tr style=\"text-align: right;\">\n",
       "      <th></th>\n",
       "      <th>CustomerID</th>\n",
       "      <th>amount_spent</th>\n",
       "    </tr>\n",
       "  </thead>\n",
       "  <tbody>\n",
       "    <tr>\n",
       "      <td>0</td>\n",
       "      <td>12347</td>\n",
       "      <td>149.90</td>\n",
       "    </tr>\n",
       "    <tr>\n",
       "      <td>1</td>\n",
       "      <td>12348</td>\n",
       "      <td>75.36</td>\n",
       "    </tr>\n",
       "    <tr>\n",
       "      <td>2</td>\n",
       "      <td>12349</td>\n",
       "      <td>100.09</td>\n",
       "    </tr>\n",
       "    <tr>\n",
       "      <td>3</td>\n",
       "      <td>12350</td>\n",
       "      <td>10.20</td>\n",
       "    </tr>\n",
       "    <tr>\n",
       "      <td>4</td>\n",
       "      <td>12352</td>\n",
       "      <td>126.48</td>\n",
       "    </tr>\n",
       "    <tr>\n",
       "      <td>...</td>\n",
       "      <td>...</td>\n",
       "      <td>...</td>\n",
       "    </tr>\n",
       "    <tr>\n",
       "      <td>3321</td>\n",
       "      <td>18276</td>\n",
       "      <td>25.20</td>\n",
       "    </tr>\n",
       "    <tr>\n",
       "      <td>3322</td>\n",
       "      <td>18278</td>\n",
       "      <td>29.70</td>\n",
       "    </tr>\n",
       "    <tr>\n",
       "      <td>3323</td>\n",
       "      <td>18280</td>\n",
       "      <td>23.60</td>\n",
       "    </tr>\n",
       "    <tr>\n",
       "      <td>3324</td>\n",
       "      <td>18283</td>\n",
       "      <td>78.08</td>\n",
       "    </tr>\n",
       "    <tr>\n",
       "      <td>3325</td>\n",
       "      <td>18287</td>\n",
       "      <td>209.52</td>\n",
       "    </tr>\n",
       "  </tbody>\n",
       "</table>\n",
       "<p>3326 rows × 2 columns</p>\n",
       "</div>"
      ],
      "text/plain": [
       "      CustomerID  amount_spent\n",
       "0          12347        149.90\n",
       "1          12348         75.36\n",
       "2          12349        100.09\n",
       "3          12350         10.20\n",
       "4          12352        126.48\n",
       "...          ...           ...\n",
       "3321       18276         25.20\n",
       "3322       18278         29.70\n",
       "3323       18280         23.60\n",
       "3324       18283         78.08\n",
       "3325       18287        209.52\n",
       "\n",
       "[3326 rows x 2 columns]"
      ]
     },
     "execution_count": 34,
     "metadata": {},
     "output_type": "execute_result"
    }
   ],
   "source": [
    "# your code here\n",
    "df = orders.groupby('CustomerID').agg({'amount_spent': 'sum'}).reset_index()\n",
    "#Check the total amount spent by each customer\n",
    "df"
   ]
  },
  {
   "cell_type": "code",
   "execution_count": 35,
   "metadata": {},
   "outputs": [
    {
     "data": {
      "text/html": [
       "<div>\n",
       "<style scoped>\n",
       "    .dataframe tbody tr th:only-of-type {\n",
       "        vertical-align: middle;\n",
       "    }\n",
       "\n",
       "    .dataframe tbody tr th {\n",
       "        vertical-align: top;\n",
       "    }\n",
       "\n",
       "    .dataframe thead th {\n",
       "        text-align: right;\n",
       "    }\n",
       "</style>\n",
       "<table border=\"1\" class=\"dataframe\">\n",
       "  <thead>\n",
       "    <tr style=\"text-align: right;\">\n",
       "      <th></th>\n",
       "      <th>CustomerID</th>\n",
       "      <th>Group</th>\n",
       "    </tr>\n",
       "  </thead>\n",
       "  <tbody>\n",
       "    <tr>\n",
       "      <td>0</td>\n",
       "      <td>12347</td>\n",
       "      <td>VIP</td>\n",
       "    </tr>\n",
       "    <tr>\n",
       "      <td>1</td>\n",
       "      <td>12348</td>\n",
       "      <td>Regular</td>\n",
       "    </tr>\n",
       "    <tr>\n",
       "      <td>2</td>\n",
       "      <td>12349</td>\n",
       "      <td>Regular</td>\n",
       "    </tr>\n",
       "    <tr>\n",
       "      <td>3</td>\n",
       "      <td>12350</td>\n",
       "      <td>Regular</td>\n",
       "    </tr>\n",
       "    <tr>\n",
       "      <td>4</td>\n",
       "      <td>12352</td>\n",
       "      <td>VIP</td>\n",
       "    </tr>\n",
       "    <tr>\n",
       "      <td>...</td>\n",
       "      <td>...</td>\n",
       "      <td>...</td>\n",
       "    </tr>\n",
       "    <tr>\n",
       "      <td>3321</td>\n",
       "      <td>18276</td>\n",
       "      <td>Regular</td>\n",
       "    </tr>\n",
       "    <tr>\n",
       "      <td>3322</td>\n",
       "      <td>18278</td>\n",
       "      <td>Regular</td>\n",
       "    </tr>\n",
       "    <tr>\n",
       "      <td>3323</td>\n",
       "      <td>18280</td>\n",
       "      <td>Regular</td>\n",
       "    </tr>\n",
       "    <tr>\n",
       "      <td>3324</td>\n",
       "      <td>18283</td>\n",
       "      <td>Regular</td>\n",
       "    </tr>\n",
       "    <tr>\n",
       "      <td>3325</td>\n",
       "      <td>18287</td>\n",
       "      <td>VIP</td>\n",
       "    </tr>\n",
       "  </tbody>\n",
       "</table>\n",
       "<p>3326 rows × 2 columns</p>\n",
       "</div>"
      ],
      "text/plain": [
       "      CustomerID    Group\n",
       "0          12347      VIP\n",
       "1          12348  Regular\n",
       "2          12349  Regular\n",
       "3          12350  Regular\n",
       "4          12352      VIP\n",
       "...          ...      ...\n",
       "3321       18276  Regular\n",
       "3322       18278  Regular\n",
       "3323       18280  Regular\n",
       "3324       18283  Regular\n",
       "3325       18287      VIP\n",
       "\n",
       "[3326 rows x 2 columns]"
      ]
     },
     "execution_count": 35,
     "metadata": {},
     "output_type": "execute_result"
    }
   ],
   "source": [
    "q75 = df['amount_spent'].quantile(0.75)\n",
    "q95 = df['amount_spent'].quantile(0.95)\n",
    "\n",
    "def group(x):\n",
    "    if x['amount_spent'] >= q75:\n",
    "        return('VIP')\n",
    "    elif x['amount_spent'] >= q75 and x['amount_spent'] < q95:\n",
    "        return('Preferred')\n",
    "    return('Regular')\n",
    "\n",
    "df['Group'] = df.apply(lambda x: group(x), axis=1)\n",
    "classification_df = df[['CustomerID','Group']]\n",
    "classification_df"
   ]
  },
  {
   "cell_type": "markdown",
   "metadata": {},
   "source": [
    "Now we'll leave it to you to solve Q2 & Q3, which you can leverage from your solution for Q1:\n",
    "\n",
    "## Q2: How to identify which country has the most VIP Customers?"
   ]
  },
  {
   "cell_type": "code",
   "execution_count": 86,
   "metadata": {},
   "outputs": [
    {
     "data": {
      "text/plain": [
       "United Kingdom    10094\n",
       "Name: Country, dtype: int64"
      ]
     },
     "execution_count": 86,
     "metadata": {},
     "output_type": "execute_result"
    }
   ],
   "source": [
    "# your code here\n",
    "best_customer = pd.merge(orders, classification_df, on='CustomerID', how='left')\n",
    "df1 = best_customer[['CustomerID','Country','Group']].sort_values(by='Group')\n",
    "vip_top = df1.loc[df1.Group=='VIP',:]\n",
    "vip_top.Country.value_counts().head(1)\n"
   ]
  },
  {
   "cell_type": "markdown",
   "metadata": {},
   "source": [
    "## Q3: How to identify which country has the most VIP+Preferred Customers combined?"
   ]
  },
  {
   "cell_type": "code",
   "execution_count": 102,
   "metadata": {},
   "outputs": [
    {
     "data": {
      "text/plain": [
       "(11732, 3)"
      ]
     },
     "execution_count": 102,
     "metadata": {},
     "output_type": "execute_result"
    }
   ],
   "source": [
    "# your code here\n",
    "mask1 = df1.loc[df1.Group =='VIP',:]\n",
    "mask1.shape\n",
    "#vip_top.Country.value_counts().head(1)"
   ]
  },
  {
   "cell_type": "code",
   "execution_count": 103,
   "metadata": {},
   "outputs": [
    {
     "data": {
      "text/plain": [
       "(0, 3)"
      ]
     },
     "execution_count": 103,
     "metadata": {},
     "output_type": "execute_result"
    }
   ],
   "source": [
    "mask2 = df1.loc[df1.Group =='Preferred',:]\n",
    "mask2.shape"
   ]
  },
  {
   "cell_type": "code",
   "execution_count": 106,
   "metadata": {},
   "outputs": [
    {
     "data": {
      "text/plain": [
       "United Kingdom    10094\n",
       "Name: Country, dtype: int64"
      ]
     },
     "execution_count": 106,
     "metadata": {},
     "output_type": "execute_result"
    }
   ],
   "source": [
    "#Since there are no Preferred customers in the dataset, we can affirm that the number of \n",
    "#VIP+Preferred Customers combined equals to the number of VIP customers. Therefore:\n",
    "vip_and_preferred = vip_top.Country.value_counts().head(1)\n",
    "vip_and_preferred"
   ]
  }
 ],
 "metadata": {
  "kernelspec": {
   "display_name": "Python 3",
   "language": "python",
   "name": "python3"
  },
  "language_info": {
   "codemirror_mode": {
    "name": "ipython",
    "version": 3
   },
   "file_extension": ".py",
   "mimetype": "text/x-python",
   "name": "python",
   "nbconvert_exporter": "python",
   "pygments_lexer": "ipython3",
   "version": "3.7.4"
  },
  "varInspector": {
   "cols": {
    "lenName": 16,
    "lenType": 16,
    "lenVar": 40
   },
   "kernels_config": {
    "python": {
     "delete_cmd_postfix": "",
     "delete_cmd_prefix": "del ",
     "library": "var_list.py",
     "varRefreshCmd": "print(var_dic_list())"
    },
    "r": {
     "delete_cmd_postfix": ") ",
     "delete_cmd_prefix": "rm(",
     "library": "var_list.r",
     "varRefreshCmd": "cat(var_dic_list()) "
    }
   },
   "types_to_exclude": [
    "module",
    "function",
    "builtin_function_or_method",
    "instance",
    "_Feature"
   ],
   "window_display": false
  }
 },
 "nbformat": 4,
 "nbformat_minor": 2
}
