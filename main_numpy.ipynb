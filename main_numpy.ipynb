{
 "cells": [
  {
   "cell_type": "markdown",
   "metadata": {
    "colab_type": "text",
    "id": "-we_8UVrwCc1"
   },
   "source": [
    "# Intrduction to NumPy\n",
    "\n",
    "\n",
    "#### 1. Import NumPy under the name np."
   ]
  },
  {
   "cell_type": "code",
   "execution_count": 1,
   "metadata": {
    "colab": {},
    "colab_type": "code",
    "id": "3fRJ8mtHwCc5"
   },
   "outputs": [],
   "source": [
    "# your code here\n",
    "import numpy as np"
   ]
  },
  {
   "cell_type": "markdown",
   "metadata": {
    "colab_type": "text",
    "id": "8Xtbl_EvwCc9"
   },
   "source": [
    "#### 2. Print your NumPy version."
   ]
  },
  {
   "cell_type": "code",
   "execution_count": 2,
   "metadata": {
    "colab": {},
    "colab_type": "code",
    "id": "BlegxuJVwCc-"
   },
   "outputs": [
    {
     "name": "stdout",
     "output_type": "stream",
     "text": [
      "1.18.1\n"
     ]
    }
   ],
   "source": [
    "# your code here\n",
    "print(np.__version__)"
   ]
  },
  {
   "cell_type": "markdown",
   "metadata": {
    "colab_type": "text",
    "id": "FpKgyatowCdC"
   },
   "source": [
    "#### 3. Generate a 2x3x5 3-dimensional array with random values. Assign the array to variable *a*.\n",
    "**Challenge**: there are at least three easy ways that use numpy to generate random arrays. How many ways can you find?"
   ]
  },
  {
   "cell_type": "code",
   "execution_count": 3,
   "metadata": {
    "colab": {},
    "colab_type": "code",
    "id": "609Z4Zn3wCdD"
   },
   "outputs": [
    {
     "data": {
      "text/plain": [
       "array([[[0.2665695 , 0.26282285, 0.5990681 , 0.4582262 , 0.70595617],\n",
       "        [0.40019013, 0.01643891, 0.80620327, 0.18341099, 0.12539719],\n",
       "        [0.77799206, 0.23009637, 0.16444732, 0.66948952, 0.06094368]],\n",
       "\n",
       "       [[0.84915366, 0.45877998, 0.42620202, 0.59665967, 0.53259852],\n",
       "        [0.42719951, 0.68085875, 0.69480072, 0.73152132, 0.30526256],\n",
       "        [0.73401618, 0.83183246, 0.14467084, 0.46188494, 0.22890732]]])"
      ]
     },
     "execution_count": 3,
     "metadata": {},
     "output_type": "execute_result"
    }
   ],
   "source": [
    "# Method 1\n",
    "a = np.random.random(size=(2,3,5))\n",
    "a"
   ]
  },
  {
   "cell_type": "code",
   "execution_count": 4,
   "metadata": {
    "colab": {},
    "colab_type": "code",
    "id": "q6dKJNO4wCdH"
   },
   "outputs": [
    {
     "data": {
      "text/plain": [
       "array([[[24, 40,  7, 42, 21],\n",
       "        [32, 15,  7, 35, 11],\n",
       "        [28, 18, 34, 34, 48]],\n",
       "\n",
       "       [[43,  0, 47, 31, 47],\n",
       "        [38, 24, 14, 20, 32],\n",
       "        [17, 18, 35, 28,  8]]])"
      ]
     },
     "execution_count": 4,
     "metadata": {},
     "output_type": "execute_result"
    }
   ],
   "source": [
    "# Method 2\n",
    "a = np.random.randint(50,size = (2,3,5))\n",
    "a"
   ]
  },
  {
   "cell_type": "code",
   "execution_count": 5,
   "metadata": {
    "colab": {},
    "colab_type": "code",
    "id": "xILn36GWwCdK"
   },
   "outputs": [
    {
     "name": "stderr",
     "output_type": "stream",
     "text": [
      "C:\\Users\\Alvaro Camacho\\Anaconda3\\lib\\site-packages\\ipykernel_launcher.py:2: DeprecationWarning: This function is deprecated. Please call randint(55, 95 + 1) instead\n",
      "  \n"
     ]
    },
    {
     "data": {
      "text/plain": [
       "array([[[91, 66, 55, 77, 72],\n",
       "        [74, 86, 84, 95, 83],\n",
       "        [86, 83, 73, 91, 60]],\n",
       "\n",
       "       [[86, 82, 86, 58, 62],\n",
       "        [90, 82, 89, 60, 88],\n",
       "        [56, 78, 93, 87, 69]]])"
      ]
     },
     "execution_count": 5,
     "metadata": {},
     "output_type": "execute_result"
    }
   ],
   "source": [
    "# Method 3\n",
    "a = np.random.random_integers(55, 95, size = (2,3,5))\n",
    "a"
   ]
  },
  {
   "cell_type": "markdown",
   "metadata": {
    "colab_type": "text",
    "id": "aMHxBSCDwCdP"
   },
   "source": [
    "#### 4. Print *a*.\n"
   ]
  },
  {
   "cell_type": "code",
   "execution_count": 6,
   "metadata": {
    "colab": {},
    "colab_type": "code",
    "id": "N_NYL3pHwCdQ"
   },
   "outputs": [
    {
     "name": "stdout",
     "output_type": "stream",
     "text": [
      "[[[91 66 55 77 72]\n",
      "  [74 86 84 95 83]\n",
      "  [86 83 73 91 60]]\n",
      "\n",
      " [[86 82 86 58 62]\n",
      "  [90 82 89 60 88]\n",
      "  [56 78 93 87 69]]]\n"
     ]
    }
   ],
   "source": [
    "# your code here\n",
    "print(a) "
   ]
  },
  {
   "cell_type": "markdown",
   "metadata": {
    "colab_type": "text",
    "id": "kws-mAPSwCdU"
   },
   "source": [
    "#### 5. Create a 5x2x3 3-dimensional array with all values equaling 1. Assign the array to variable *b*."
   ]
  },
  {
   "cell_type": "code",
   "execution_count": 7,
   "metadata": {
    "colab": {},
    "colab_type": "code",
    "id": "anCmbtrtwCdW"
   },
   "outputs": [],
   "source": [
    "# your code here\n",
    "b = np.ones((5, 2, 3))"
   ]
  },
  {
   "cell_type": "markdown",
   "metadata": {
    "colab_type": "text",
    "id": "FsYdwPxPwCdZ"
   },
   "source": [
    "#### 6. Print *b*.\n"
   ]
  },
  {
   "cell_type": "code",
   "execution_count": 8,
   "metadata": {
    "colab": {},
    "colab_type": "code",
    "id": "Y3rcPurpwCda"
   },
   "outputs": [
    {
     "name": "stdout",
     "output_type": "stream",
     "text": [
      "[[[1. 1. 1.]\n",
      "  [1. 1. 1.]]\n",
      "\n",
      " [[1. 1. 1.]\n",
      "  [1. 1. 1.]]\n",
      "\n",
      " [[1. 1. 1.]\n",
      "  [1. 1. 1.]]\n",
      "\n",
      " [[1. 1. 1.]\n",
      "  [1. 1. 1.]]\n",
      "\n",
      " [[1. 1. 1.]\n",
      "  [1. 1. 1.]]]\n"
     ]
    }
   ],
   "source": [
    "# your code here\n",
    "print(b)"
   ]
  },
  {
   "cell_type": "markdown",
   "metadata": {
    "colab_type": "text",
    "id": "hGblsnk5wCde"
   },
   "source": [
    "#### 7. Do *a* and *b* have the same size? How do you prove that in Python code?"
   ]
  },
  {
   "cell_type": "code",
   "execution_count": 9,
   "metadata": {
    "colab": {},
    "colab_type": "code",
    "id": "YmKeIpGWwCdf"
   },
   "outputs": [
    {
     "data": {
      "text/plain": [
       "True"
      ]
     },
     "execution_count": 9,
     "metadata": {},
     "output_type": "execute_result"
    }
   ],
   "source": [
    "# your code here\n",
    "np.size(a) is np.size(b)"
   ]
  },
  {
   "cell_type": "markdown",
   "metadata": {
    "colab_type": "text",
    "id": "o9UzXk9IwCdi"
   },
   "source": [
    "#### 8. Are you able to add *a* and *b*? Why or why not?\n"
   ]
  },
  {
   "cell_type": "code",
   "execution_count": 10,
   "metadata": {
    "colab": {},
    "colab_type": "code",
    "id": "drdAyKPywCdj"
   },
   "outputs": [
    {
     "ename": "ValueError",
     "evalue": "operands could not be broadcast together with shapes (2,3,5) (5,2,3) ",
     "output_type": "error",
     "traceback": [
      "\u001b[1;31m---------------------------------------------------------------------------\u001b[0m",
      "\u001b[1;31mValueError\u001b[0m                                Traceback (most recent call last)",
      "\u001b[1;32m<ipython-input-10-f0076dd456af>\u001b[0m in \u001b[0;36m<module>\u001b[1;34m\u001b[0m\n\u001b[0;32m      1\u001b[0m \u001b[1;31m# your answer here\u001b[0m\u001b[1;33m\u001b[0m\u001b[1;33m\u001b[0m\u001b[1;33m\u001b[0m\u001b[0m\n\u001b[1;32m----> 2\u001b[1;33m \u001b[0ma\u001b[0m\u001b[1;33m+\u001b[0m\u001b[0mb\u001b[0m \u001b[1;31m# ValueError: operands could not be broadcast together with shapes (2,3,5) (5,2,3)\u001b[0m\u001b[1;33m\u001b[0m\u001b[1;33m\u001b[0m\u001b[0m\n\u001b[0m",
      "\u001b[1;31mValueError\u001b[0m: operands could not be broadcast together with shapes (2,3,5) (5,2,3) "
     ]
    }
   ],
   "source": [
    "# your answer here\n",
    "a+b # ValueError: operands could not be broadcast together with shapes (2,3,5) (5,2,3) "
   ]
  },
  {
   "cell_type": "markdown",
   "metadata": {
    "colab_type": "text",
    "id": "DTsSOpvYwCdm"
   },
   "source": [
    "#### 9. Reshape *b* so that it has the same structure of *a* (i.e. become a 2x3x5 array). Assign the reshaped array to variable *c*."
   ]
  },
  {
   "cell_type": "code",
   "execution_count": 11,
   "metadata": {
    "colab": {},
    "colab_type": "code",
    "id": "DjLlRJUtwCdn"
   },
   "outputs": [
    {
     "data": {
      "text/plain": [
       "array([[[1., 1., 1., 1., 1.],\n",
       "        [1., 1., 1., 1., 1.],\n",
       "        [1., 1., 1., 1., 1.]],\n",
       "\n",
       "       [[1., 1., 1., 1., 1.],\n",
       "        [1., 1., 1., 1., 1.],\n",
       "        [1., 1., 1., 1., 1.]]])"
      ]
     },
     "execution_count": 11,
     "metadata": {},
     "output_type": "execute_result"
    }
   ],
   "source": [
    "# your code here\n",
    "c = b.reshape(2,3,5)\n",
    "c"
   ]
  },
  {
   "cell_type": "markdown",
   "metadata": {
    "colab_type": "text",
    "id": "fvHocQ9EwCdq"
   },
   "source": [
    "#### 10. Try to add *a* and *c*. Now it should work. Assign the sum to variable *d*. But why does it work now?"
   ]
  },
  {
   "cell_type": "code",
   "execution_count": 49,
   "metadata": {
    "colab": {},
    "colab_type": "code",
    "id": "Ohf5yh5ZwCdr"
   },
   "outputs": [
    {
     "data": {
      "text/plain": [
       "array([[[92., 67., 56., 78., 73.],\n",
       "        [75., 87., 85., 96., 84.],\n",
       "        [87., 84., 74., 92., 61.]],\n",
       "\n",
       "       [[87., 83., 87., 59., 63.],\n",
       "        [91., 83., 90., 61., 89.],\n",
       "        [57., 79., 94., 88., 70.]]])"
      ]
     },
     "execution_count": 49,
     "metadata": {},
     "output_type": "execute_result"
    }
   ],
   "source": [
    "# your code/answer here\n",
    "d = a+c\n",
    "d"
   ]
  },
  {
   "cell_type": "markdown",
   "metadata": {
    "colab_type": "text",
    "id": "DuQBMzQBwCdw"
   },
   "source": [
    "#### 11. Print *a* and *d*. Notice the difference and relation of the two array in terms of the values? Explain."
   ]
  },
  {
   "cell_type": "code",
   "execution_count": 50,
   "metadata": {
    "colab": {},
    "colab_type": "code",
    "id": "gEuh7iv1wCdx"
   },
   "outputs": [
    {
     "name": "stdout",
     "output_type": "stream",
     "text": [
      "[[[91 66 55 77 72]\n",
      "  [74 86 84 95 83]\n",
      "  [86 83 73 91 60]]\n",
      "\n",
      " [[86 82 86 58 62]\n",
      "  [90 82 89 60 88]\n",
      "  [56 78 93 87 69]]]\n",
      "[[[92. 67. 56. 78. 73.]\n",
      "  [75. 87. 85. 96. 84.]\n",
      "  [87. 84. 74. 92. 61.]]\n",
      "\n",
      " [[87. 83. 87. 59. 63.]\n",
      "  [91. 83. 90. 61. 89.]\n",
      "  [57. 79. 94. 88. 70.]]]\n",
      "[[[92 67 56 78 73]\n",
      "  [75 87 85 96 84]\n",
      "  [87 84 74 92 61]]\n",
      "\n",
      " [[87 83 87 59 63]\n",
      "  [91 83 90 61 89]\n",
      "  [57 79 94 88 70]]]\n"
     ]
    }
   ],
   "source": [
    "# your code/answer here\n",
    "print(a)\n",
    "print(d)\n",
    "print(a+1)\n",
    "\n",
    "# each element of a was added with each element of d which was 1, so a + d == a + 1"
   ]
  },
  {
   "cell_type": "markdown",
   "metadata": {
    "colab_type": "text",
    "id": "Ka1popJ3wCd0"
   },
   "source": [
    "#### 12. Multiply *a* and *c*. Assign the result to *e*."
   ]
  },
  {
   "cell_type": "code",
   "execution_count": 51,
   "metadata": {
    "colab": {},
    "colab_type": "code",
    "id": "hLeCMiSEwCd1"
   },
   "outputs": [
    {
     "data": {
      "text/plain": [
       "array([[[91., 66., 55., 77., 72.],\n",
       "        [74., 86., 84., 95., 83.],\n",
       "        [86., 83., 73., 91., 60.]],\n",
       "\n",
       "       [[86., 82., 86., 58., 62.],\n",
       "        [90., 82., 89., 60., 88.],\n",
       "        [56., 78., 93., 87., 69.]]])"
      ]
     },
     "execution_count": 51,
     "metadata": {},
     "output_type": "execute_result"
    }
   ],
   "source": [
    "# your code here\n",
    "e = a*c\n",
    "e"
   ]
  },
  {
   "cell_type": "markdown",
   "metadata": {
    "colab_type": "text",
    "id": "1QCqP6lMwCd5"
   },
   "source": [
    "#### 13. Does *e* equal to *a*? Why or why not?\n"
   ]
  },
  {
   "cell_type": "code",
   "execution_count": 15,
   "metadata": {
    "colab": {},
    "colab_type": "code",
    "id": "oxoat0cbwCd6"
   },
   "outputs": [
    {
     "data": {
      "text/plain": [
       "False"
      ]
     },
     "execution_count": 15,
     "metadata": {},
     "output_type": "execute_result"
    }
   ],
   "source": [
    "# your code/answer here\n",
    "e is a # it is not the same because despite the fact that the result of each element multiplied by 1, \n",
    "#equals the same  value its different."
   ]
  },
  {
   "cell_type": "markdown",
   "metadata": {
    "colab_type": "text",
    "id": "b7ceZMcswCd9"
   },
   "source": [
    "#### 14. Identify the max, min, and mean values in *d*. Assign those values to variables *d_max*, *d_min* and *d_mean*."
   ]
  },
  {
   "cell_type": "code",
   "execution_count": 52,
   "metadata": {
    "colab": {},
    "colab_type": "code",
    "id": "ljd7J4ucwCd-"
   },
   "outputs": [
    {
     "name": "stdout",
     "output_type": "stream",
     "text": [
      "56.0 96.0 79.06666666666666\n"
     ]
    }
   ],
   "source": [
    "# your code here\n",
    "d_max = np.max(d)\n",
    "d_min = np.min(d)\n",
    "d_mean = np.mean(d)\n",
    "print(d_min, d_max, d_mean)"
   ]
  },
  {
   "cell_type": "markdown",
   "metadata": {
    "colab_type": "text",
    "id": "bBmZ1bg3wCeC"
   },
   "source": [
    "#### 15. Now we want to label the values in *d*. First create an empty array *f* with the same shape (i.e. 2x3x5) as *d* using `np.empty`.\n"
   ]
  },
  {
   "cell_type": "code",
   "execution_count": 53,
   "metadata": {
    "colab": {},
    "colab_type": "code",
    "id": "GVU7znV7wCeD"
   },
   "outputs": [],
   "source": [
    "# your code here\n",
    "f = np.empty((2,3,5), dtype=object)\n",
    "f\n",
    "g = np.empty((2,3,5), dtype=object)\n"
   ]
  },
  {
   "cell_type": "markdown",
   "metadata": {
    "colab_type": "text",
    "id": "cwZMaPTawCeG"
   },
   "source": [
    "#### 16. Populate the values in *f*. \n",
    "\n",
    "For each value in *d*, if it's larger than *d_min* but smaller than *d_mean*, assign 25 to the corresponding value in *f*. If a value in *d* is larger than *d_mean* but smaller than *d_max*, assign 75 to the corresponding value in *f*. If a value equals to *d_mean*, assign 50 to the corresponding value in *f*. Assign 0 to the corresponding value(s) in *f* for *d_min* in *d*. Assign 100 to the corresponding value(s) in *f* for *d_max* in *d*. In the end, f should have only the following values: 0, 25, 50, 75, and 100.\n",
    "\n",
    "**Note**: you don't have to use Numpy in this question."
   ]
  },
  {
   "cell_type": "code",
   "execution_count": 54,
   "metadata": {
    "colab": {},
    "colab_type": "code",
    "id": "He3bA8_vwCeI"
   },
   "outputs": [
    {
     "name": "stdout",
     "output_type": "stream",
     "text": [
      "[[[92. 67. 56. 78. 73.]\n",
      "  [75. 87. 85. 96. 84.]\n",
      "  [87. 84. 74. 92. 61.]]\n",
      "\n",
      " [[87. 83. 87. 59. 63.]\n",
      "  [91. 83. 90. 61. 89.]\n",
      "  [57. 79. 94. 88. 70.]]]\n",
      "[[[ 75.  25.   0.  25.  25.]\n",
      "  [ 25.  75.  75. 100.  75.]\n",
      "  [ 75.  75.  25.  75.  25.]]\n",
      "\n",
      " [[ 75.  75.  75.  25.  25.]\n",
      "  [ 75.  75.  75.  25.  75.]\n",
      "  [ 25.  25.  75.  75.  25.]]]\n"
     ]
    }
   ],
   "source": [
    "# your code here\n",
    "f = np.array([np.where(z > d_min and z < d_mean, 25, z) for x in d for y in x for z in y])\n",
    "f = f.reshape(2,3,5)\n",
    "f =np.array([np.where(z > d_mean and z < d_max, 75, z) for x in f for y in x for z in y])\n",
    "f = f.reshape(2,3,5)\n",
    "f =np.array([np.where(z == d_mean, 50, z) for x in f for y in x for z in y])\n",
    "f = f.reshape(2,3,5)\n",
    "f =np.array([np.where(z == d_min, 0, z) for x in f for y in x for z in y])\n",
    "f = f.reshape(2,3,5)\n",
    "f =np.array([np.where(z == d_max, 100, z) for x in f for y in x for z in y])\n",
    "f = f.reshape(2,3,5)\n",
    "print(d)\n",
    "print(f)\n",
    "\n",
    "            \n"
   ]
  },
  {
   "cell_type": "markdown",
   "metadata": {
    "colab_type": "text",
    "id": "DtXatajMwCeM"
   },
   "source": [
    "#### 17. Print *d* and *f*. Do you have your expected *f*?\n",
    "For instance, if your *d* is:\n",
    "```python\n",
    "[[[1.85836099, 1.67064465, 1.62576044, 1.40243961, 1.88454931],\n",
    "[1.75354326, 1.69403643, 1.36729252, 1.61415071, 1.12104981],\n",
    "[1.72201435, 1.1862918 , 1.87078449, 1.7726778 , 1.88180042]],\n",
    "[[1.44747908, 1.31673383, 1.02000951, 1.52218947, 1.97066381],\n",
    "[1.79129243, 1.74983003, 1.96028037, 1.85166831, 1.65450881],\n",
    "[1.18068344, 1.9587381 , 1.00656599, 1.93402165, 1.73514584]]]\n",
    "```\n",
    "Your *f* should be:\n",
    "```python\n",
    "[[[ 75.,  75.,  75.,  25.,  75.],\n",
    "[ 75.,  75.,  25.,  25.,  25.],\n",
    "[ 75.,  25.,  75.,  75.,  75.]],\n",
    "[[ 25.,  25.,  25.,  25., 100.],\n",
    "[ 75.,  75.,  75.,  75.,  75.],\n",
    "[ 25.,  75.,   0.,  75.,  75.]]]\n",
    "```"
   ]
  },
  {
   "cell_type": "code",
   "execution_count": 55,
   "metadata": {
    "colab": {},
    "colab_type": "code",
    "id": "wvC83zaUwCeN"
   },
   "outputs": [
    {
     "name": "stdout",
     "output_type": "stream",
     "text": [
      "[[[92. 67. 56. 78. 73.]\n",
      "  [75. 87. 85. 96. 84.]\n",
      "  [87. 84. 74. 92. 61.]]\n",
      "\n",
      " [[87. 83. 87. 59. 63.]\n",
      "  [91. 83. 90. 61. 89.]\n",
      "  [57. 79. 94. 88. 70.]]]\n",
      "[[[ 75.  25.   0.  25.  25.]\n",
      "  [ 25.  75.  75. 100.  75.]\n",
      "  [ 75.  75.  25.  75.  25.]]\n",
      "\n",
      " [[ 75.  75.  75.  25.  25.]\n",
      "  [ 75.  75.  75.  25.  75.]\n",
      "  [ 25.  25.  75.  75.  25.]]]\n"
     ]
    }
   ],
   "source": [
    "# your code here\n",
    "print(d)\n",
    "print(f)"
   ]
  },
  {
   "cell_type": "markdown",
   "metadata": {
    "colab_type": "text",
    "id": "ppRoFFJBwCeS"
   },
   "source": [
    "#### 18. Bonus question: instead of using numbers (i.e. 0, 25, 50, 75, and 100), use string values  (\"A\", \"B\", \"C\", \"D\", and \"E\") to label the array elements. For the example above, the expected result is:\n",
    "\n",
    "```python\n",
    "[[[ 'D',  'D',  'D',  'B',  'D'],\n",
    "[ 'D',  'D',  'B',  'B',  'B'],\n",
    "[ 'D',  'B',  'D',  'D',  'D']],\n",
    "[[ 'B',  'B',  'B',  'B',  'E'],\n",
    "[ 'D',  'D',  'D',  'D',  'D'],\n",
    "[ 'B',  'D',   'A',  'D', 'D']]]\n",
    "```\n",
    "**Note**: you don't have to use Numpy in this question."
   ]
  },
  {
   "cell_type": "code",
   "execution_count": 59,
   "metadata": {},
   "outputs": [
    {
     "name": "stdout",
     "output_type": "stream",
     "text": [
      "[[['D' 'B' 'A' 'B' 'B']\n",
      "  ['B' 'D' 'D' 'E' 'D']\n",
      "  ['D' 'D' 'B' 'D' 'B']]\n",
      "\n",
      " [['D' 'D' 'D' 'B' 'B']\n",
      "  ['D' 'D' 'D' 'B' 'D']\n",
      "  ['B' 'B' 'D' 'D' 'B']]]\n"
     ]
    }
   ],
   "source": [
    "g = np.empty(f.shape, dtype=object)\n",
    "for x in range(f.shape[0]):\n",
    "    for y in range(f.shape[1]):\n",
    "        for z in range(f.shape[2]):\n",
    "            if f[x, y, z] == 0:\n",
    "                g[x, y, z] = 'A'\n",
    "            elif f[x, y, z] == 25:\n",
    "                g[x, y, z] = 'B'\n",
    "            elif f[x, y, z] == 50:\n",
    "                g[x, y, z] = 'C'\n",
    "            elif f[x, y, z] == 75:\n",
    "                g[x, y, z] = 'D'\n",
    "            elif f[x, y, z] == 100:\n",
    "                g[x, y, z] = 'E'\n",
    "                \n",
    "print(g)\n",
    "\n",
    "        \n",
    "\n",
    "         \n",
    "    \n"
   ]
  },
  {
   "cell_type": "code",
   "execution_count": null,
   "metadata": {},
   "outputs": [],
   "source": []
  }
 ],
 "metadata": {
  "colab": {
   "name": "main.ipynb",
   "provenance": []
  },
  "kernelspec": {
   "display_name": "Python 3",
   "language": "python",
   "name": "python3"
  },
  "language_info": {
   "codemirror_mode": {
    "name": "ipython",
    "version": 3
   },
   "file_extension": ".py",
   "mimetype": "text/x-python",
   "name": "python",
   "nbconvert_exporter": "python",
   "pygments_lexer": "ipython3",
   "version": "3.7.4"
  },
  "toc": {
   "base_numbering": 1,
   "nav_menu": {},
   "number_sections": true,
   "sideBar": true,
   "skip_h1_title": false,
   "title_cell": "Table of Contents",
   "title_sidebar": "Contents",
   "toc_cell": false,
   "toc_position": {},
   "toc_section_display": true,
   "toc_window_display": false
  },
  "varInspector": {
   "cols": {
    "lenName": 16,
    "lenType": 16,
    "lenVar": 40
   },
   "kernels_config": {
    "python": {
     "delete_cmd_postfix": "",
     "delete_cmd_prefix": "del ",
     "library": "var_list.py",
     "varRefreshCmd": "print(var_dic_list())"
    },
    "r": {
     "delete_cmd_postfix": ") ",
     "delete_cmd_prefix": "rm(",
     "library": "var_list.r",
     "varRefreshCmd": "cat(var_dic_list()) "
    }
   },
   "types_to_exclude": [
    "module",
    "function",
    "builtin_function_or_method",
    "instance",
    "_Feature"
   ],
   "window_display": false
  }
 },
 "nbformat": 4,
 "nbformat_minor": 1
}
